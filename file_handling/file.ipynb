{
 "cells": [
  {
   "cell_type": "markdown",
   "metadata": {},
   "source": [
    "# File Handling\n",
    "- - -"
   ]
  },
  {
   "cell_type": "code",
   "execution_count": null,
   "metadata": {},
   "outputs": [],
   "source": [
    "f = open(\"file_handling/file.txt\", \"w\")\n",
    "f.write(\"Hello, World!\")"
   ]
  },
  {
   "cell_type": "markdown",
   "metadata": {},
   "source": []
  },
  {
   "cell_type": "code",
   "execution_count": 9,
   "metadata": {},
   "outputs": [
    {
     "name": "stdout",
     "output_type": "stream",
     "text": [
      "['1', '2', '3', '4']\n"
     ]
    }
   ],
   "source": [
    "f = open('input.txt', 'w') # open file in write mode\n",
    "\n",
    "lst = ['1','2','3','4'] # list of string\n",
    "f.writelines(lst) # write all lines at once\n",
    "f.close() # close the file"
   ]
  },
  {
   "cell_type": "code",
   "execution_count": 6,
   "metadata": {},
   "outputs": [],
   "source": [
    "f = open('new.txt', 'w') # open file in write mode\n",
    "\n",
    "lst = [1,2,3,4] # list of string\n",
    "f.writelines(str(lst)) # write all lines at once\n",
    "f.close() # close the file"
   ]
  },
  {
   "cell_type": "code",
   "execution_count": 4,
   "metadata": {},
   "outputs": [
    {
     "name": "stdout",
     "output_type": "stream",
     "text": [
      "12\n"
     ]
    }
   ],
   "source": [
    "c = open('input.txt', 'r') # open file in read mode\n",
    "c = c.read(2) # read first 2 characters\n",
    "print(c)\n",
    "f.close()"
   ]
  },
  {
   "cell_type": "code",
   "execution_count": 10,
   "metadata": {},
   "outputs": [
    {
     "name": "stdout",
     "output_type": "stream",
     "text": [
      "1234\n"
     ]
    }
   ],
   "source": [
    "f = open('input.txt', 'r') # open file in read mode\n",
    "c = f.readline() # read all characters\n",
    "\n",
    "print(c)\n",
    "f.close()"
   ]
  },
  {
   "cell_type": "code",
   "execution_count": 14,
   "metadata": {},
   "outputs": [
    {
     "name": "stdout",
     "output_type": "stream",
     "text": [
      "H\n"
     ]
    }
   ],
   "source": [
    "f = open('file.txt', 'r') # open file in read mode\n",
    "c = f.readline() # read all characters\n",
    "\n",
    "print(c)\n",
    "f.close()"
   ]
  },
  {
   "cell_type": "code",
   "execution_count": null,
   "metadata": {},
   "outputs": [],
   "source": []
  },
  {
   "cell_type": "markdown",
   "metadata": {},
   "source": [
    "# Class Task\n"
   ]
  },
  {
   "cell_type": "code",
   "execution_count": null,
   "metadata": {},
   "outputs": [],
   "source": [
    "my_data = open('file.txt', 'r') # open file in read mode\n",
    "print(my_data.read()) # read all characters\n",
    "\n",
    "c = my_data.read() # read all characters\n",
    "\n",
    "new_data = open('new.txt', 'w') # open file in write mode\n",
    "new_data.write(c) # write data to new file\n",
    "\n",
    "\n",
    "my_data.close() # close the file"
   ]
  },
  {
   "cell_type": "markdown",
   "metadata": {},
   "source": [
    "# to check file mode and etc\n",
    "- - -\n",
    "data = open(\"input.txt\", \"r\")\n",
    "\n",
    "- print(data.readable()) # check file is readable or not\n",
    "- print(data.mode) # check file mode\n",
    "- print(data.name) # check file name\n",
    "- print(data.closed) # check file is closed or not\n",
    "- print(data.writable()) # check file is writable or not"
   ]
  },
  {
   "cell_type": "markdown",
   "metadata": {},
   "source": []
  },
  {
   "cell_type": "code",
   "execution_count": null,
   "metadata": {},
   "outputs": [],
   "source": []
  },
  {
   "cell_type": "markdown",
   "metadata": {},
   "source": [
    "# Method\n",
    "- - -\n",
    "- tell() # check the position of the cursor\n",
    "- seek() # move the cursor to the specific position\n"
   ]
  },
  {
   "cell_type": "code",
   "execution_count": 17,
   "metadata": {},
   "outputs": [
    {
     "name": "stdout",
     "output_type": "stream",
     "text": [
      "0\n",
      "Hello\n",
      "5\n",
      ", W\n",
      "8\n"
     ]
    }
   ],
   "source": [
    "# Syntax: file_object.tell)\n",
    "\n",
    "f=open ('file.txt', mode='r')\n",
    "print(f.tell()) # print current position of file pointer\n",
    "data=f.read(5)\n",
    "print(data) # print first 5 characters\n",
    "print(f.tell()) # print current position of file pointer\n",
    "data1=f. read (3)\n",
    "print(data1) # print next 3 characters\n",
    "print(f.tell()) # print current position of file pointer"
   ]
  },
  {
   "cell_type": "code",
   "execution_count": 19,
   "metadata": {},
   "outputs": [
    {
     "name": "stdout",
     "output_type": "stream",
     "text": [
      "0\n",
      "2\n",
      "llo, World!\n"
     ]
    }
   ],
   "source": [
    "# Syntax: file_object.seek(position) # position is integer value \n",
    "f=open('file.txt' ,mode='r')\n",
    "print(f.tell()) # print current position of file pointer\n",
    "f.seek (2) # move file pointer to 2nd position\n",
    "print(f.tell()) # print current position of file pointer\n",
    "data=f.read()\n",
    "print(data) # print all characters"
   ]
  },
  {
   "cell_type": "markdown",
   "metadata": {},
   "source": [
    "# Pickling And Unpickling\n",
    "- - - \n",
    "- Pickling: The Process To Convert Any Kind Of Python Object (List, Dict, Etc.) Into Byte Streams (0s And 1s) Before Writing To The File Is Called Pickling.\n",
    "\n",
    "\n",
    "- Unpickling: The process to convert byte stream (generated through pickling) back into python objects is called unpickling.\n",
    "\n",
    "\n",
    "## Pickling:\n",
    "- dump(): pickle to file\n",
    "\n",
    "- dumps(): returns a pickle representation of any object. We can store it in variable.\n",
    "\n",
    "## Unpickling:\n",
    "- load(): unpickle from file\n",
    "\n",
    "- loads(): unpickle from supplied variable"
   ]
  },
  {
   "cell_type": "code",
   "execution_count": 20,
   "metadata": {},
   "outputs": [
    {
     "name": "stdout",
     "output_type": "stream",
     "text": [
      "[1, 2, 3, 4]\n"
     ]
    }
   ],
   "source": [
    "# pickling by using dump() function\n",
    "\n",
    "import pickle\n",
    "\n",
    "data = open('file.txt', 'wb') # open file in write mode\n",
    "\n",
    "list = [1,2,3,4] # list of string\n",
    "pickle.dump(list, data) # write all lines at once\n",
    "data.close() # close the file\n",
    "\n",
    "# read data from file\n",
    "data = open('file.txt', 'rb') # open file in read mode\n",
    "list = pickle.load(data) # read all lines at once\n",
    "print(list) # print list\n",
    "data.close() # close the file"
   ]
  },
  {
   "cell_type": "code",
   "execution_count": 23,
   "metadata": {},
   "outputs": [
    {
     "name": "stdout",
     "output_type": "stream",
     "text": [
      "b'\\x80\\x04\\x95\\r\\x00\\x00\\x00\\x00\\x00\\x00\\x00]\\x94(K\\x01K\\x02K\\x03K\\x04e.'\n"
     ]
    }
   ],
   "source": [
    "# # pickling by using dumps() function\n",
    "\n",
    "import pickle\n",
    "\n",
    "data = open('new.txt', 'wb') # open file in write mode\n",
    "\n",
    "list = [1,2,3,4] # list of string\n",
    "data = pickle.dumps(list) # write all lines at once\n",
    "print(data) # print list\n",
    "\n",
    "\n",
    "# # read data from file\n",
    "# data = open('new.txt', 'rb') # open file in read mode\n",
    "# list = pickle.loads(data) # read all lines at once\n",
    "# print(list) # print list\n",
    "# data.close() # close the file\n",
    "\n"
   ]
  },
  {
   "cell_type": "markdown",
   "metadata": {},
   "source": [
    "# Example of Exception Handling\n",
    "- - -\n"
   ]
  },
  {
   "cell_type": "code",
   "execution_count": null,
   "metadata": {},
   "outputs": [],
   "source": [
    "# Exception Handling\n",
    "try:\n",
    "  print(x)\n",
    "except NameError as e:\n",
    "  print(\"An exception occurred and \" + str(e))\n",
    "\n",
    "\n",
    "add = \"10\" + \"20\"\n",
    "print(add)"
   ]
  },
  {
   "cell_type": "code",
   "execution_count": 9,
   "metadata": {},
   "outputs": [
    {
     "name": "stdout",
     "output_type": "stream",
     "text": [
      "File not found!\n",
      "File closed.\n"
     ]
    },
    {
     "ename": "NameError",
     "evalue": "name 'file' is not defined",
     "output_type": "error",
     "traceback": [
      "\u001b[0;31m---------------------------------------------------------------------------\u001b[0m",
      "\u001b[0;31mNameError\u001b[0m                                 Traceback (most recent call last)",
      "Cell \u001b[0;32mIn[9], line 10\u001b[0m\n\u001b[1;32m      8\u001b[0m \u001b[38;5;28;01mfinally\u001b[39;00m:\n\u001b[1;32m      9\u001b[0m   \u001b[38;5;28mprint\u001b[39m(\u001b[38;5;124m\"\u001b[39m\u001b[38;5;124mFile closed.\u001b[39m\u001b[38;5;124m\"\u001b[39m)\n\u001b[0;32m---> 10\u001b[0m   \u001b[43mfile\u001b[49m\u001b[38;5;241m.\u001b[39mclose()\n",
      "\u001b[0;31mNameError\u001b[0m: name 'file' is not defined"
     ]
    }
   ],
   "source": [
    "try:\n",
    "  file = open(\"example.txt\", \"r\")\n",
    "  content = file.read()\n",
    "except FileNotFoundError:\n",
    "  print(\"File not found!\")\n",
    "else:\n",
    "  print(content)\n",
    "finally:\n",
    "  print(\"File closed.\")\n",
    "  file.close()"
   ]
  }
 ],
 "metadata": {
  "kernelspec": {
   "display_name": "Python 3",
   "language": "python",
   "name": "python3"
  },
  "language_info": {
   "codemirror_mode": {
    "name": "ipython",
    "version": 3
   },
   "file_extension": ".py",
   "mimetype": "text/x-python",
   "name": "python",
   "nbconvert_exporter": "python",
   "pygments_lexer": "ipython3",
   "version": "3.12.3"
  }
 },
 "nbformat": 4,
 "nbformat_minor": 2
}
